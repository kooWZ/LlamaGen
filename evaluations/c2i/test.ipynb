{
 "cells": [
  {
   "cell_type": "code",
   "execution_count": 1,
   "id": "e94b6163",
   "metadata": {},
   "outputs": [],
   "source": [
    "import numpy as np\n",
    "d = np.load(\"/root/kongly/AR/LlamaGen/dataset/ImageNet-1k/reference/256/VIRTUAL_imagenet256_labeled.npz\")"
   ]
  },
  {
   "cell_type": "code",
   "execution_count": 2,
   "id": "63f707f0",
   "metadata": {},
   "outputs": [
    {
     "data": {
      "text/plain": [
       "['mu', 'sigma', 'mu_s', 'sigma_s', 'mu_clip', 'sigma_clip', 'arr_0']"
      ]
     },
     "execution_count": 2,
     "metadata": {},
     "output_type": "execute_result"
    }
   ],
   "source": [
    "d.files"
   ]
  },
  {
   "cell_type": "code",
   "execution_count": 8,
   "id": "807d03f5",
   "metadata": {},
   "outputs": [
    {
     "data": {
      "text/plain": [
       "(10000, 256, 256, 3)"
      ]
     },
     "execution_count": 8,
     "metadata": {},
     "output_type": "execute_result"
    }
   ],
   "source": [
    "d[\"arr_0\"].shape"
   ]
  }
 ],
 "metadata": {
  "kernelspec": {
   "display_name": "TiTok3D",
   "language": "python",
   "name": "python3"
  },
  "language_info": {
   "codemirror_mode": {
    "name": "ipython",
    "version": 3
   },
   "file_extension": ".py",
   "mimetype": "text/x-python",
   "name": "python",
   "nbconvert_exporter": "python",
   "pygments_lexer": "ipython3",
   "version": "3.12.8"
  }
 },
 "nbformat": 4,
 "nbformat_minor": 5
}
